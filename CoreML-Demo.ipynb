{
 "cells": [
  {
   "cell_type": "code",
   "execution_count": 10,
   "metadata": {},
   "outputs": [],
   "source": [
    "import coremltools\n",
    "import pandas as pd\n",
    "from sklearn import datasets, linear_model\n",
    "from sklearn.externals import joblib"
   ]
  },
  {
   "cell_type": "code",
   "execution_count": 11,
   "metadata": {},
   "outputs": [],
   "source": [
    "# Load Data\n",
    "boston = datasets.load_boston()\n",
    "\n",
    "#Convert Dataset to pandas dataframe\n",
    "df = pd.DataFrame(boston.data)\n",
    "df.columns = boston.feature_names\n",
    "\n",
    "#Drop the columns we don't care about\n",
    "X = df.drop(df.columns[[1,2,3,4,6,7,8,9,10,11,12]], axis=1)\n",
    "Y = boston.target\n",
    "\n",
    "model = linear_model.LinearRegression()\n",
    "model.fit(X, Y)\n",
    "\n",
    "#Coefficients\n",
    "model.intercept_\n",
    "model.coef_\n",
    "\n",
    "coreml_model = coremltools.converters.sklearn.convert(model,\n",
    " input_features=[\"crime\", \"rooms\"],\n",
    " output_feature_names=\"price\")\n",
    "\n",
    "coreml_model.save(\"BostonPricer.mlmodel\")\n",
    "# Error message can be ignored"
   ]
  },
  {
   "cell_type": "code",
   "execution_count": null,
   "metadata": {
    "collapsed": true
   },
   "outputs": [],
   "source": []
  }
 ],
 "metadata": {
  "kernelspec": {
   "display_name": "Python 2",
   "language": "python",
   "name": "python2"
  },
  "language_info": {
   "codemirror_mode": {
    "name": "ipython",
    "version": 2
   },
   "file_extension": ".py",
   "mimetype": "text/x-python",
   "name": "python",
   "nbconvert_exporter": "python",
   "pygments_lexer": "ipython2",
   "version": "2.7.13"
  }
 },
 "nbformat": 4,
 "nbformat_minor": 2
}
